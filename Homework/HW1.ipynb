{
 "cells": [
  {
   "cell_type": "markdown",
   "metadata": {
    "colab_type": "text",
    "id": "xkn0mGY3CXXA"
   },
   "source": [
    "# Chem 30324, Spring 2025, Homework 1 "
   ]
  },
  {
   "cell_type": "markdown",
   "metadata": {
    "colab_type": "text",
    "id": "0cl-rK-HCXXC"
   },
   "source": [
    "# Due on January 24, 2025"
   ]
  },
  {
   "cell_type": "markdown",
   "metadata": {
    "colab_type": "text",
    "id": "sQAPRxVoCXXC"
   },
   "source": [
    "## Problem 1: Discrete, probably"
   ]
  },
  {
   "cell_type": "markdown",
   "metadata": {
    "colab_type": "text",
    "id": "19WnICkbCXXD"
   },
   "source": [
    "*In five card study, a poker player is dealt five cards from a standard deck of 52 cards.*"
   ]
  },
  {
   "cell_type": "markdown",
   "metadata": {
    "colab_type": "text",
    "id": "woT1qvpRCXXD"
   },
   "source": [
    "### 1. How many different 5-card hands are there?  (Remember, in poker the order in which the cards are received does *not* matter.)"
   ]
  },
  {
   "cell_type": "markdown",
   "metadata": {
    "colab_type": "text",
    "id": "HdoAMFLwCXXE"
   },
   "source": [
    "### 2. What is the probability of being dealt four of a kind (a card of the same rank from each suit in a five card hand)?"
   ]
  },
  {
   "cell_type": "markdown",
   "metadata": {
    "colab_type": "text",
    "id": "CFF7ZwXTCXXF"
   },
   "source": [
    "### 3. What is the probability of being dealt a flush (five cards of the same suit)?"
   ]
  },
  {
   "cell_type": "markdown",
   "metadata": {
    "colab_type": "text",
    "id": "aBAIPhISCXXF"
   },
   "source": [
    "## Problem 2: Continuous, probably"
   ]
  },
  {
   "cell_type": "markdown",
   "metadata": {
    "colab_type": "text",
    "id": "imd-jbY1CXXG"
   },
   "source": [
    "The probability distribution function for a random variable $x$ is given by $P(x)=x e^{-2x}, 0\\le x < \\infty$."
   ]
  },
  {
   "cell_type": "markdown",
   "metadata": {
    "colab_type": "text",
    "id": "hvQgzUzQCXXG"
   },
   "source": [
    "### 1. Is $P(x)$ normalized?  If not, normalize it.  Plot the normalized $P(x)$."
   ]
  },
  {
   "cell_type": "markdown",
   "metadata": {
    "colab_type": "text",
    "id": "u1vkxXVFCXXH"
   },
   "source": [
    "### 2. What is the most probable value of $x$?"
   ]
  },
  {
   "cell_type": "markdown",
   "metadata": {
    "colab_type": "text",
    "id": "n88PQvomCXXH"
   },
   "source": [
    "### 3. What is the expectation value of $x$?"
   ]
  },
  {
   "cell_type": "markdown",
   "metadata": {
    "colab_type": "text",
    "id": "IHfU7A37CXXI"
   },
   "source": [
    "### 4. What is the variance of $x$?"
   ]
  },
  {
   "cell_type": "markdown",
   "metadata": {
    "colab_type": "text",
    "id": "3LujRiVqCXXI"
   },
   "source": [
    "## Problem 3: One rough night"
   ]
  },
  {
   "cell_type": "markdown",
   "metadata": {
    "colab_type": "text",
    "id": "_b_1KcoQCXXJ"
   },
   "source": [
    "It's late on a Friday night and people are stumbling up Notre Dame Ave. to their dorms. You observe one particularly impaired individual who is taking steps of equal length 1m to the north or south (i.e., in one dimension), with equal probability."
   ]
  },
  {
   "cell_type": "markdown",
   "metadata": {
    "colab_type": "text",
    "id": "zNOTJ9p3CXXJ"
   },
   "source": [
    "### 1. What is the furthest distance the person could travel after 20 steps?"
   ]
  },
  {
   "cell_type": "markdown",
   "metadata": {
    "colab_type": "text",
    "id": "jUhhMqUTCXXK"
   },
   "source": [
    "### 2. What is the probability that the person won't have traveled any net distance at all after 20 steps?"
   ]
  },
  {
   "cell_type": "markdown",
   "metadata": {
    "colab_type": "text",
    "id": "FpA5IkuxCXXK"
   },
   "source": [
    "### 3. What is the probability that the person has traveled half the maximum distance after 20 steps?"
   ]
  },
  {
   "cell_type": "markdown",
   "metadata": {
    "colab_type": "text",
    "id": "8slmJCVTCXXL"
   },
   "source": [
    "### 4. Plot the probability of traveling a given distance vs distance. Does the probability distribution look familiar?  You'll see it again when we talk about diffusion."
   ]
  },
  {
   "cell_type": "markdown",
   "metadata": {
    "colab_type": "text",
    "id": "-GTpf883CXXL"
   },
   "source": [
    "## Problem 4: Now this is what I call equilibrium"
   ]
  },
  {
   "cell_type": "markdown",
   "metadata": {
    "colab_type": "text",
    "id": "aHs1_8nRCXXM"
   },
   "source": [
    "The Boltzmann distribution tells us that, at thermal equilibrium, the probability of a particle having an energy $E(q,p)$ is proportional to $\\exp(-E(q,p)/k_\\text{B}T)$, where $k_\\text{B}$ is the Boltzmann constant and $q$ and $p$ are position and momentum ($p=mv$), respectively.  Suppose a bunch of Ar molecules are in thermal equilibrium at temperature $T$ and are traveling back and forth in one dimension with various momenta and kinetic energies $K=p^2/2$."
   ]
  },
  {
   "cell_type": "markdown",
   "metadata": {
    "colab_type": "text",
    "id": "9Vfds2xdCXXM"
   },
   "source": [
    "### 1. What is the expectation value of the momentum $p$ of an Ar molecule?"
   ]
  },
  {
   "cell_type": "markdown",
   "metadata": {
    "colab_type": "text",
    "id": "balOZ2qwCXXN"
   },
   "source": [
    "### 2. What is the expectation value of the kinetic energy $K$ of an Ar molecule?"
   ]
  },
  {
   "cell_type": "markdown",
   "metadata": {
    "colab_type": "text",
    "id": "balOZ2qwCXXN"
   },
   "source": [
    "### 3. How would your answers change if the molecules were Xe?"
   ]
  },
  {
   "cell_type": "code",
   "execution_count": null,
   "metadata": {},
   "outputs": [],
   "source": []
  }
 ],
 "metadata": {
  "anaconda-cloud": {},
  "celltoolbar": "Raw Cell Format",
  "colab": {
   "name": "HW1.ipynb",
   "provenance": []
  },
  "kernelspec": {
   "display_name": "Python [conda env:base] *",
   "language": "python",
   "name": "conda-base-py"
  },
  "language_info": {
   "codemirror_mode": {
    "name": "ipython",
    "version": 3
   },
   "file_extension": ".py",
   "mimetype": "text/x-python",
   "name": "python",
   "nbconvert_exporter": "python",
   "pygments_lexer": "ipython3",
   "version": "3.11.11"
  }
 },
 "nbformat": 4,
 "nbformat_minor": 4
}
