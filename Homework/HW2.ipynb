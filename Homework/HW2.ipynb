{
 "cells": [
  {
   "cell_type": "markdown",
   "metadata": {
    "id": "vpWNlIpLW1Fn"
   },
   "source": [
    "# Chem 30324, Spring 2025, Homework 2\n",
    "## Due: January 31, 2025"
   ]
  },
  {
   "cell_type": "markdown",
   "metadata": {
    "id": "mr41M1F1W1Fr"
   },
   "source": [
    "## Problem 1. Gases on a table top"
   ]
  },
  {
   "cell_type": "markdown",
   "metadata": {
    "id": "Y1qyyBLlW1Fr"
   },
   "source": [
    "In class we derived the properties of a 3-dimensional gas from the Boltzmann distribution and three postulates, and you studied a 1-dimensional gas in Homework 1. Suppose you were interested instead in a 2-dimensional gas, for example gas molecules able to freely skate around on a surface but that couldn’t escape the surface."
   ]
  },
  {
   "cell_type": "markdown",
   "metadata": {
    "id": "4VokqYVFW1Fs"
   },
   "source": [
    "### 1. Derive the Maxwell-Boltzman speed distribution for a 2-dimensional gas. (*Hint*: Think polar coordinates.)"
   ]
  },
  {
   "cell_type": "markdown",
   "metadata": {
    "id": "1Ozbk-o1W1Fs"
   },
   "source": [
    "### 2. Plot this 2-dimensional speed distribution for O$_2$ molecules at 200, 400 and 600 K."
   ]
  },
  {
   "cell_type": "markdown",
   "metadata": {
    "id": "2h1pmPWPW1Fs"
   },
   "source": [
    "### 3. Calculate the mean (expected value) of the speed of a 2-dimensional gas of molecules. How does your answer compare to a 3-dimensional gas?"
   ]
  },
  {
   "cell_type": "markdown",
   "metadata": {
    "id": "On4xKmT1W1Ft"
   },
   "source": [
    "### 4. Calculate the mean kinetic energy of a 2-dimensional gas. How does your answer compare to a one and 3-dimensional gas?"
   ]
  },
  {
   "cell_type": "markdown",
   "metadata": {
    "id": "L7SUeMdRW1Ft"
   },
   "source": [
    "## Problem 2. (Kinetics and Transport)"
   ]
  },
  {
   "cell_type": "markdown",
   "metadata": {
    "id": "HQ6RUOjmW1Fu"
   },
   "source": [
    "In junior Chemical Engineering laboratory, you might study the diffusion and solubility of CO$_2$ in an organic solvent using a diffusion cell like the one sketched here. <img src=\"imgs/HW2_P2.png\">Let’s suppose that the gas space at the top of the diffusion cell is approximately 2 cm high and 4 cm in diameter. Further suppose that the gas in the head of the cell is pure CO$_2$ at 298 K and 1 bar pressure. Note that CO$_2$ has a collision diameter d of 0.40 nm."
   ]
  },
  {
   "cell_type": "markdown",
   "metadata": {
    "id": "EISBhG8JW1Fu"
   },
   "source": [
    "### 5. What does gas kinetic theory predict for the gas self-diffusion constant $D_{11}$ of CO$_2$ gas in the cell, in cm$^2$s$^{−1}$?"
   ]
  },
  {
   "cell_type": "markdown",
   "metadata": {
    "id": "uURZQ5-1W1Fu"
   },
   "source": [
    "### 6. Use the Stokes-Einstein relationship to estimate the diffusion constant of CO$_2$ in the organic solvent (take it to be Stoddard solvent, a relatively high molecular weight petroleum distillate).  How does this compare with the diffusion constant in the gas phase? Why?"
   ]
  },
  {
   "cell_type": "markdown",
   "metadata": {
    "id": "PfUsEbm3W1Fu"
   },
   "source": [
    "### 7. We found in class that the probability for a molecule to diffuse a distance $x$ in time $t$ is Gaussian with mean 0 and standard deviation $\\sigma = \\sqrt{2D_{11}t}$. About how long will it take for 1/3 of the molecules starting at the center of the gas space to diffuse all the way to the surface of the liquid, i.e., > 1 cm?"
   ]
  },
  {
   "cell_type": "markdown",
   "metadata": {
    "id": "z43X2O7lW1Fv"
   },
   "source": [
    "### 8. How many collisions on average does one of these diffusing CO$_2$ molecule make with other gas molecules on the way from the middle of the vapor space to the surface of the solvent?"
   ]
  },
  {
   "cell_type": "markdown",
   "metadata": {
    "id": "fh3TSyr-W1Fv"
   },
   "source": [
    "### 9. How far in total distance does this typical CO$_2$ molecule travel in the time it takes to reach the solvent surface from the middle of the cell?"
   ]
  },
  {
   "cell_type": "markdown",
   "metadata": {
    "id": "0y3HihBmW1Fv"
   },
   "source": [
    "### 10. How many CO$_2$ molecules impinge on the surface of the Stoddard solvent in one second?"
   ]
  },
  {
   "cell_type": "markdown",
   "metadata": {
    "collapsed": true,
    "id": "p8dGVuRGW1Fv",
    "jupyter": {
     "outputs_hidden": true
    }
   },
   "source": [
    "### 11. Using your estimate of the diffusion constant in the solvent, how long does it take the same fraction CO$_2$  molecules to diffuse a similar distance in 1-dimension in the liquid phase?"
   ]
  },
  {
   "cell_type": "markdown",
   "metadata": {
    "id": "HLcJW7DuW1Fv"
   },
   "source": [
    "### 12. Is it safe to assume that any CO$_2$ that travels from the surface into the bulk of the solvent is rapidly replaced from the gas phase?"
   ]
  },
  {
   "cell_type": "markdown",
   "metadata": {
    "id": "3bOQ9TndW1Fv"
   },
   "source": [
    "### 13. Suppose the volume of the gas-handling manifold is 100 cm$^3$ and is pressurized with CO$_2$ in the morning to 1.1 atm.  What will the pressure in the manifold be four hours later, when lab starts, if the manifold has a pinhole of 1 μm$^2$?"
   ]
  }
 ],
 "metadata": {
  "anaconda-cloud": {},
  "colab": {
   "provenance": []
  },
  "kernelspec": {
   "display_name": "Python [conda env:base] *",
   "language": "python",
   "name": "conda-base-py"
  },
  "language_info": {
   "codemirror_mode": {
    "name": "ipython",
    "version": 3
   },
   "file_extension": ".py",
   "mimetype": "text/x-python",
   "name": "python",
   "nbconvert_exporter": "python",
   "pygments_lexer": "ipython3",
   "version": "3.11.11"
  }
 },
 "nbformat": 4,
 "nbformat_minor": 4
}
