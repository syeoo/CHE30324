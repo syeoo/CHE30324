{
 "cells": [
  {
   "cell_type": "markdown",
   "metadata": {},
   "source": [
    "# Chem 30324, Spring 2020, Homework 8\n",
    "Due March 25, 2020"
   ]
  },
  {
   "cell_type": "markdown",
   "metadata": {},
   "source": [
    "## Chemical bonding\n",
    "### The electron wavefunctions (molecular orbitals) in molecules can be thought of as coming from combinations of atomic orbitals on the constituent atoms. One of the factors that determines whether two atomic orbitals  form a bond is there ability to overlap. Consider two atoms, A and B, aligned on the z axis and separated by a distance $R$."
   ]
  },
  {
   "cell_type": "markdown",
   "metadata": {},
   "source": [
    "### 1. The overlap between two 1s orbitals on A and B can be shown to be: $$S = \\left \\{1+\\frac{R}{a_0}+\\frac{1}{3}\\left (\\frac{R}{a_0}\\right )^2\\right \\}e^{-R/a_0}$$ Plot out the overlap as a function of the internuclear distance $R$. Qualitatively explain why it has the shape it has."
   ]
  },
  {
   "cell_type": "markdown",
   "metadata": {},
   "source": [
    "### 2. The overlap functions for other pairs of orbitals are more complicated, but the general features are easily inferred. Neatly sketch the orbital overlap between a 1s orbital on A and 2p$_z$ orbital on B as a function $R$. Carefully indicate the limiting values as $R \\rightarrow 0$ and $R \\rightarrow \\infty$."
   ]
  },
  {
   "cell_type": "markdown",
   "metadata": {},
   "source": [
    "### 3. Choose some other pair of atomic orbitals on A and B and sketch out their overlap as a function of $R$. Carefully indicate the limiting values as  $ R \\rightarrow 0$  and  $ R\\rightarrow \\infty$."
   ]
  },
  {
   "cell_type": "markdown",
   "metadata": {},
   "source": [
    "### 4. What property besides overlap determines whether two atomic orbitals will form a bond?"
   ]
  },
  {
   "cell_type": "markdown",
   "metadata": {},
   "source": [
    "### 5. A chemical bond is a compromise between the electrons trying to get close to both nuclei and the nuclei trying to stay apart. The function below captures this compromise as a function of internuclear distance, $R$. Plot the function for different values of the parameters $A$, $\\alpha$, and $R_0$.  Provide a physical interpretation of each of the parameters. $$V(R) = A \\left ( 1 - e^{(-\\alpha(R - R_0))}\\right)^2$$"
   ]
  },
  {
   "cell_type": "markdown",
   "metadata": {},
   "source": [
    "### 6. For each pair, draw a Lewis dot structure. Indicate which bond is stronger in the pair, and give a very brief rationalization: \n",
    "\n",
    "#### (a) H$_2$ vs LiH \n",
    "#### (b) N$_2$ vs H$_2$\n",
    "#### (c) N$_2$ vs CO\n",
    "#### (d) H$_2$ vs He$_2$"
   ]
  },
  {
   "cell_type": "markdown",
   "metadata": {
    "collapsed": true
   },
   "source": [
    "## Computational chemistry. \n",
    "### Today properties of a molecule are more often than not calculated rather than inferred. Quantitative molecular quantum mechanical calculations require specialized numerical solvers like [Orca](https://orcaforum.kofo.mpg.de/app.php/portal). Following are instructions for using Orca with the [Webmo](https://www.webmo.net/demoserver/cgi-bin/webmo/login.cgi) graphical interface."
   ]
  },
  {
   "cell_type": "markdown",
   "metadata": {},
   "source": [
    "### Now, let’s set up your calculation (you may do this with a partner or partners if you choose):\n",
    "1. Log into the Webmo server https://www.webmo.net/demoserver/cgi-bin/webmo/login.cgi using \"guest\" as your username and password.\n",
    "2. Select New Job-Creat New Job.\n",
    "3. Use the available tools to sketch a molecule.\n",
    "4. Use the right arrow at the bottom to proceed to the Computational Engines.\n",
    "5. Select Orca\n",
    "5. Select \"Molecular Energy,\" “B3LYP” functional and the default def2-SVP basis set.\n",
    "6. Select the right arrow to run the calculation.\n",
    "7. From the job manager window choose the completed calculation to view the results."
   ]
  },
  {
   "cell_type": "markdown",
   "metadata": {},
   "source": [
    "The molecule you are to study depends on your last name. Choose according to the list:\n",
    "+ A-G: **CO**\n",
    "+ H-R: **BN**\n",
    "+ S-Z: **BeO**"
   ]
  },
  {
   "cell_type": "markdown",
   "metadata": {},
   "source": [
    "For your convenience, here are the total energies (in Hartree, 27.212 eV/Hartree) of the constituent atoms, calculated using the B3LYP DFT treatment of $v_{ee}$ and the def2-SVP basis set:"
   ]
  },
  {
   "cell_type": "markdown",
   "metadata": {},
   "source": [
    "|Atom|Energy|Atom|Energy|\n",
    "|-|-|-|-|\n",
    "|B|–24.61703|N|\t-54.51279|\n",
    "|Be|-14.64102|O|-74.98784|\n",
    "|C|-37.79271|F|-99.60655|"
   ]
  },
  {
   "cell_type": "markdown",
   "metadata": {},
   "source": [
    "### 7. Construct a potential energy surface for your molecule. Using covalent radii, guess an approximate equilbrium bond length, and use the Webmo editor to draw the molecule with that length. Specify the “Molecular Energy” option to Orga and the def2-SVP basis set. Calculate and plot out total molecular energy vs. bond distance in increments of 0.05 Å about your guessed minimum, including enough points to encompass the actual minimum. (You will find it convenient to subtract off the individual atom energies from the molecular total energy and to convert to more convenient units, like eV or kJ/mol.) By fitting the few points nearest the minimum, determine the equilibrium bond length. How does your result compare to literature?"
   ]
  },
  {
   "cell_type": "markdown",
   "metadata": {},
   "source": [
    "### 8. Use the quadratic fit from Question 8 to determine the harmonic vibrational frequency of your molecule, in cm$^{-1}$. Recall that the force constant is the second derivative of the energy at the minimum, and that the frequency (in wavenumbers) is related to the force constant according to $$\\tilde{\\nu} = \\frac{1}{2\\pi c}\\sqrt{\\frac{k}{\\mu}}$$"
   ]
  },
  {
   "cell_type": "markdown",
   "metadata": {},
   "source": [
    "### 9. Use your results to determine the zero-point-corrected bond energy of your molecule. How does this model compare with the experimental value?"
   ]
  },
  {
   "cell_type": "markdown",
   "metadata": {},
   "source": [
    "## Computational chemistry, part deux"
   ]
  },
  {
   "cell_type": "markdown",
   "metadata": {},
   "source": [
    "### Diatomics are a little mundane.  These same methods can be used to compute the properties of much more complicated things.  As example, the OQMD database <http://oqmd.org/> contains results for many solids. We don't have time to get this complicated in class, but at least you can compute properties of some molecules."
   ]
  },
  {
   "cell_type": "markdown",
   "metadata": {},
   "source": [
    "### 10. Working with some of your classmates, compute the equilibrium structures of C$_2$H$_6$, C$_2$H$_4$, and C$_2$H$_2$.  Compare their equilibrium C-C bond lengths.  Do they vary in the way you expect?\n",
    "\n",
    "1. Log into the Webmo server https://www.webmo.net/demoserver/cgi-bin/webmo/login.cgi using \"guest\" as your username and password.\n",
    "2. Select New Job-Creat New Job.\n",
    "3. Use the available tools to sketch a molecule.  Make sure the bond distances and angles are in a plausible range.\n",
    "4. Use the right arrow at the bottom to proceed to the Computational Engines.\n",
    "5. Select Orca\n",
    "5. Select \"Geometry optimization,\" “B3LYP” functional and the default def2-SVP basis set.\n",
    "6. Select the right arrow to run the calculation.\n",
    "7. From the job manager window choose the completed calculation to view the results."
   ]
  },
  {
   "cell_type": "markdown",
   "metadata": {},
   "source": [
    "### 11. Compute the corresponding vibrational spectra.  Could you distinguish these molecules by their spectra?\n",
    "\n",
    "1. Log into the Webmo server https://www.webmo.net/demoserver/cgi-bin/webmo/login.cgi using \"guest\" as your username and password.\n",
    "2. Select the job with the optimized geometry and open it.\n",
    "3. Use the right arrow at the bottom to proceed to the Computational Engines.\n",
    "4. Select Orca\n",
    "5. Select \"Vibrational frequency,\" “B3LYP” functional and the default def2-SVP basis set.\n",
    "6. Select the right arrow to run the calculation.\n",
    "7. From the job manager window choose the completed calculation to view the results."
   ]
  },
  {
   "cell_type": "markdown",
   "metadata": {},
   "source": [
    "### 12. Compute the structure and energy of H$_2$.   Use it to compare the energies to hydrogenate acetylene to ethylene and ethylene to ethane.  Which is easier to hydrogenate?  Can you see why selective hydrogenation of acetylene to ethylene is difficult to do?"
   ]
  },
  {
   "cell_type": "code",
   "execution_count": null,
   "metadata": {},
   "outputs": [],
   "source": []
  }
 ],
 "metadata": {
  "anaconda-cloud": {},
  "kernelspec": {
   "display_name": "Python 3",
   "language": "python",
   "name": "python3"
  },
  "language_info": {
   "codemirror_mode": {
    "name": "ipython",
    "version": 3
   },
   "file_extension": ".py",
   "mimetype": "text/x-python",
   "name": "python",
   "nbconvert_exporter": "python",
   "pygments_lexer": "ipython3",
   "version": "3.7.4"
  }
 },
 "nbformat": 4,
 "nbformat_minor": 1
}
